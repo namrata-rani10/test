{
 "cells": [
  {
   "cell_type": "code",
   "execution_count": 1,
   "id": "43dfcfc4-662a-4f54-b153-bcec364a7a00",
   "metadata": {},
   "outputs": [
    {
     "name": "stdout",
     "output_type": "stream",
     "text": [
      "I am hungry\n"
     ]
    }
   ],
   "source": [
    "print('I am hungry')"
   ]
  },
  {
   "cell_type": "code",
   "execution_count": 2,
   "id": "058a7802-e4ec-4871-9cac-4275ff65585d",
   "metadata": {},
   "outputs": [
    {
     "name": "stdout",
     "output_type": "stream",
     "text": [
      "Please take break\n"
     ]
    }
   ],
   "source": [
    "print ('Please take break')"
   ]
  },
  {
   "cell_type": "code",
   "execution_count": 3,
   "id": "9cfb9022-804a-4fcb-bccd-e0cd099a7207",
   "metadata": {},
   "outputs": [
    {
     "name": "stdin",
     "output_type": "stream",
     "text": [
      "are you hungry? yes\n"
     ]
    },
    {
     "name": "stdout",
     "output_type": "stream",
     "text": [
      "take a break\n"
     ]
    }
   ],
   "source": [
    "hungry=input(\"are you hungry?\")\n",
    "\n",
    "if hungry==\"yes\":\n",
    "    print(\"take a break\")\n",
    "else:\n",
    "    print(\"No\")"
   ]
  },
  {
   "cell_type": "code",
   "execution_count": null,
   "id": "5ced9051-f5ec-4a8f-b910-5db5afe07fc4",
   "metadata": {},
   "outputs": [],
   "source": []
  }
 ],
 "metadata": {
  "kernelspec": {
   "display_name": "Python 3 (ipykernel)",
   "language": "python",
   "name": "python3"
  },
  "language_info": {
   "codemirror_mode": {
    "name": "ipython",
    "version": 3
   },
   "file_extension": ".py",
   "mimetype": "text/x-python",
   "name": "python",
   "nbconvert_exporter": "python",
   "pygments_lexer": "ipython3",
   "version": "3.11.5"
  }
 },
 "nbformat": 4,
 "nbformat_minor": 5
}
